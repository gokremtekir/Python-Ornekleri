{
  "nbformat": 4,
  "nbformat_minor": 0,
  "metadata": {
    "colab": {
      "provenance": [],
      "authorship_tag": "ABX9TyP+jFgDQsM25kMpoLPiCCIs",
      "include_colab_link": true
    },
    "kernelspec": {
      "name": "python3",
      "display_name": "Python 3"
    },
    "language_info": {
      "name": "python"
    }
  },
  "cells": [
    {
      "cell_type": "markdown",
      "metadata": {
        "id": "view-in-github",
        "colab_type": "text"
      },
      "source": [
        "<a href=\"https://colab.research.google.com/github/gokremtekir/Python-Ornekleri/blob/main/Python%20Ders%205.ipynb\" target=\"_parent\"><img src=\"https://colab.research.google.com/assets/colab-badge.svg\" alt=\"Open In Colab\"/></a>"
      ]
    },
    {
      "cell_type": "markdown",
      "source": [
        "# 1. Soru: “un” ön eki ekleme\n",
        "\n",
        "## Soru: Elinizde bir kelime var: \"happy\". Bu kelimeye \"un\" ön ekini ekleyerek yeni bir kelime oluşturun. Sonucu ekrana yazdırın.\n",
        "\n",
        "### Beklenen çıktı: unhappy"
      ],
      "metadata": {
        "id": "ja_Q0-Qio9Z5"
      }
    },
    {
      "cell_type": "code",
      "execution_count": 1,
      "metadata": {
        "colab": {
          "base_uri": "https://localhost:8080/"
        },
        "id": "Vi_ZTqR1ovHD",
        "outputId": "1274779e-bfb6-4dde-ce15-a3a99570b072"
      },
      "outputs": [
        {
          "output_type": "stream",
          "name": "stdout",
          "text": [
            "unhappy\n"
          ]
        }
      ],
      "source": [
        "word = \"happy\"\n",
        "prefixed_word = \"un\" + word\n",
        "print(prefixed_word)  # \"unhappy\""
      ]
    },
    {
      "cell_type": "markdown",
      "source": [
        "# 2.Soru: Listedeki Kelimelere Ön Ek Ekleme\n",
        "\n",
        "## Soru: Aşağıdaki listedeki ilk öğe bir ön ektir. Diğer kelimelere bu ön eki ekleyerek yeni kelimeler oluşturun.\n",
        "\n",
        "### Sonuçları aşağıdaki formatta birleştirip ekrana yazdırın:\n",
        "\n",
        "### vocab_words = ['en', 'close', 'joy', 'lighten']\n",
        "\n",
        "### Beklenen çıktı: en :: enclose :: enjoy :: enlighten"
      ],
      "metadata": {
        "id": "nvQfNJHZpnog"
      }
    },
    {
      "cell_type": "code",
      "source": [
        "vocab_words = ['en', 'close', 'joy', 'lighten']\n",
        "\n",
        "prefix = vocab_words[0]\n",
        "\n",
        "for word in vocab_words[1:]:\n",
        "    print(prefix + word)"
      ],
      "metadata": {
        "colab": {
          "base_uri": "https://localhost:8080/"
        },
        "id": "2rzlSdbzqDto",
        "outputId": "7ba761ff-8b09-4fe7-ad90-9be0ec58cb92"
      },
      "execution_count": 3,
      "outputs": [
        {
          "output_type": "stream",
          "name": "stdout",
          "text": [
            "enclose\n",
            "enjoy\n",
            "enlighten\n"
          ]
        }
      ]
    },
    {
      "cell_type": "markdown",
      "source": [
        "# 3.Soru: \"ness\" son ekini çıkarma\n",
        "## Soru: Aşağıdaki kelimenin sonundaki \"ness\" ekini kaldırın. Eğer bu ekten önceki harf \"i\" ise, bu harfi \"y\" harfiyle değiştirin.\n",
        "\n",
        "### Aşağıdaki örnek için doğru sonucu ekrana yazdırın:\n",
        "\n",
        "### word = \"heaviness\"\n",
        "\n",
        "### Beklenen çıktı: heavy"
      ],
      "metadata": {
        "id": "-uP2c3WQqgIp"
      }
    },
    {
      "cell_type": "code",
      "source": [
        "word = \"heaviness\"\n",
        "\n",
        "if word.endswith(\"ness\"):\n",
        "    word = word[:-4]\n",
        "    if word.endswith(\"i\"):\n",
        "        word = word[:-1] + \"y\"\n",
        "\n",
        "print(word)\n",
        "#"
      ],
      "metadata": {
        "colab": {
          "base_uri": "https://localhost:8080/"
        },
        "id": "LfN_A6tfq05T",
        "outputId": "fda0018f-c0ed-4ad6-d769-22cdffafed92"
      },
      "execution_count": 4,
      "outputs": [
        {
          "output_type": "stream",
          "name": "stdout",
          "text": [
            "heavy\n"
          ]
        }
      ]
    },
    {
      "cell_type": "markdown",
      "source": [
        "# 4.Soru: Sıfattan Fiil Oluşturma\n",
        "\n",
        "## Soru: Verilen cümledeki kelimelerden, belirtilen index’teki kelimeyi bulun.\n",
        "\n",
        "## Bu kelimenin sonuna \"en\" ekleyerek onu bir fiile çevirin. Noktalamayı temizlemeyi unutmayın.\n",
        "\n",
        "### sentence = \"It got dark as the sun set.\"\n",
        "### index = 2\n",
        "\n",
        "### Beklenen çıktı: darken"
      ],
      "metadata": {
        "id": "XN6YYAbRrLcA"
      }
    },
    {
      "cell_type": "code",
      "source": [
        "sentence = \"It got dark as the sun set.\"\n",
        "index = 2 # biz hangi indeksteki kelimenin sıfat olduğunu söylüyoruz.\n",
        "\n",
        "sentence_list = sentence.split() # cümleyi listeye çevirdi.\n",
        "print(sentence_list) # sonucunu görmeniz için ekliyorum.\n",
        "\n",
        "adjective = sentence_list[index].strip(\".,?!\") #2.indexteki kelimeyi aldık. fakat sıfat cümle sonunda olursa noktalamaları da temizlemek gerekeceği için strip fonk. kullandık.\n",
        "print(adjective) #sonucunu görmeniz için yazdım.\n",
        "\n",
        "verb = adjective + \"en\"\n",
        "print(verb)\n",
        "\n"
      ],
      "metadata": {
        "colab": {
          "base_uri": "https://localhost:8080/"
        },
        "id": "S6Vxrlw0sANq",
        "outputId": "46ca5a1e-de8e-4977-aa61-1a13075ea8e9"
      },
      "execution_count": 15,
      "outputs": [
        {
          "output_type": "stream",
          "name": "stdout",
          "text": [
            "['It', 'got', 'dark,', 'as', 'the', 'sun', 'set.']\n",
            "dark\n",
            "darken\n"
          ]
        }
      ]
    }
  ]
}